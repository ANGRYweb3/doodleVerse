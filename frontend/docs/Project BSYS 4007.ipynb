{
 "cells": [
  {
   "cell_type": "code",
   "execution_count": 5,
   "id": "e6f2d6f0-95d6-4563-9239-1e19c6bb2fde",
   "metadata": {},
   "outputs": [],
   "source": [
    "import pandas as pd\n",
    "import pandas_datareader.data as web\n",
    "import numpy as np\n",
    "import matplotlib.pyplot as plt\n",
    "from datetime import datetime\n",
    "from pmdarima import auto_arima\n",
    "from statsmodels.tsa.statespace.sarimax import SARIMAX\n",
    "from sklearn.metrics import mean_squared_error\n",
    "from statsmodels.tsa.stattools import adfuller\n",
    "from statsmodels.tsa.stattools import acf\n",
    "\n",
    "import warnings\n",
    "\n",
    "# Suppress specific warnings\n",
    "warnings.simplefilter(action='ignore', category=FutureWarning)\n",
    "warnings.simplefilter(action='ignore', category=UserWarning)\n",
    "#warnings.simplefilter(action='ignore', category=ValueWarning)"
   ]
  },
  {
   "cell_type": "markdown",
   "id": "334c0c77-a8e3-41d7-bfe2-ade256b7e885",
   "metadata": {},
   "source": [
    "## 0. Download Data"
   ]
  },
  {
   "cell_type": "code",
   "execution_count": 41,
   "id": "9563c316-1a9c-4035-8233-576017ae75a4",
   "metadata": {},
   "outputs": [
    {
     "name": "stdout",
     "output_type": "stream",
     "text": [
      "               Open    High     Low   Close       Volume\n",
      "Date                                                    \n",
      "2025-02-14  136.480  139.25  135.50  138.85  195479557.0\n",
      "2025-02-13  131.555  136.50  131.17  135.29  197429975.0\n",
      "2025-02-12  130.020  132.24  129.08  131.14  160278552.0\n",
      "2025-02-11  132.580  134.48  131.02  132.80  178902379.0\n",
      "2025-02-10  130.090  135.00  129.96  133.57  216989086.0\n"
     ]
    }
   ],
   "source": [
    "df = web.DataReader('NVDA', 'stooq')\n",
    "print(df.head())"
   ]
  },
  {
   "cell_type": "markdown",
   "id": "39a86553-7ee4-4dfa-a64e-cbd7409320e3",
   "metadata": {},
   "source": [
    "## 1. Load Data & Preprocess"
   ]
  },
  {
   "cell_type": "code",
   "execution_count": 45,
   "id": "2a02ccde-0982-4141-ac27-6197c744203b",
   "metadata": {},
   "outputs": [
    {
     "name": "stdout",
     "output_type": "stream",
     "text": [
      "Today's Date: 2025-02-14 00:00:00\n",
      "Today's Closing Price: $138.85\n"
     ]
    }
   ],
   "source": [
    "df = df.sort_index(ascending=True)\n",
    "\n",
    "# Filter last n years of data\n",
    "df = df[df.index >= df.index.max() - pd.DateOffset(years=2)]\n",
    "\n",
    "# Extract today's price\n",
    "today = df.index[-1]\n",
    "today_close_price = round(df['Close'].iloc[-1], 2)\n",
    "\n",
    "print(f\"Today's Date: {today}\")\n",
    "print(f\"Today's Closing Price: ${today_close_price:.2f}\")\n"
   ]
  },
  {
   "cell_type": "code",
   "execution_count": 47,
   "id": "59412629-9b7d-4a3e-93d4-f43dcfed54b1",
   "metadata": {},
   "outputs": [
    {
     "name": "stdout",
     "output_type": "stream",
     "text": [
      "Dataset Min Date: 2023-02-14 00:00:00, Max Date: 2025-02-14 00:00:00\n",
      "Total Rows: 503\n"
     ]
    }
   ],
   "source": [
    "print(f\"Dataset Min Date: {df.index.min()}, Max Date: {df.index.max()}\")\n",
    "print(f\"Total Rows: {len(df)}\")"
   ]
  },
  {
   "cell_type": "markdown",
   "id": "519a25fe-a75c-4632-ae8d-78d5a96908c5",
   "metadata": {},
   "source": [
    "## 1.2 Calculate Technical Indicators"
   ]
  },
  {
   "cell_type": "code",
   "execution_count": 53,
   "id": "7f56d345-9bde-42c7-9792-30cf0f4c7006",
   "metadata": {},
   "outputs": [],
   "source": [
    "# 1. Simple Moving Average (SMA)\n",
    "df['SMA_14'] = df['Close'].rolling(window=14).mean()\n",
    "\n",
    "# 2. Exponential Moving Average (EMA)\n",
    "df['EMA_14'] = df['Close'].ewm(span=14, adjust=False).mean()\n",
    "\n",
    "# 3. MACD (Moving Average Convergence Divergence)\n",
    "short_window = 12\n",
    "long_window = 26\n",
    "signal_window = 9\n",
    "\n",
    "df['MACD'] = df['Close'].ewm(span=short_window, adjust=False).mean() - df['Close'].ewm(span=long_window, adjust=False).mean()\n",
    "df['MACD_Signal'] = df['MACD'].ewm(span=signal_window, adjust=False).mean()\n",
    "\n",
    "# 4. Relative Strength Index (RSI)\n",
    "window_length = 14\n",
    "\n",
    "delta = df['Close'].diff()\n",
    "gain = (delta.where(delta > 0, 0)).rolling(window=window_length).mean()\n",
    "loss = (-delta.where(delta < 0, 0)).rolling(window=window_length).mean()\n",
    "\n",
    "rs = gain / loss\n",
    "df['RSI_14'] = 100 - (100 / (1 + rs))\n",
    "\n",
    "# 5. Bollinger Bands (20-day moving average with 2 standard deviations)\n",
    "rolling_mean = df['Close'].rolling(window=20).mean()\n",
    "rolling_std = df['Close'].rolling(window=20).std()\n",
    "\n",
    "df['Upper_BB'] = rolling_mean + (rolling_std * 2)\n",
    "df['Lower_BB'] = rolling_mean - (rolling_std * 2)\n",
    "\n",
    "# 6. Average True Range (ATR)\n",
    "df['TR'] = np.maximum(df['High'] - df['Low'], \n",
    "                      np.maximum(abs(df['High'] - df['Close'].shift(1)), \n",
    "                                 abs(df['Low'] - df['Close'].shift(1))))\n",
    "df['ATR_14'] = df['TR'].rolling(window=14).mean()\n",
    "\n",
    "# Drop NaN values caused by rolling calculations\n",
    "df.dropna(inplace=True)\n",
    "\n",
    "features = ['SMA_14', 'EMA_14', 'MACD', 'MACD_Signal', 'RSI_14', 'Upper_BB', 'Lower_BB', 'ATR_14', 'Volume']\n",
    "target_column = 'Close'\n"
   ]
  },
  {
   "cell_type": "markdown",
   "id": "0f0f9a93-ace3-4f2d-b800-abc3519781c9",
   "metadata": {
    "jp-MarkdownHeadingCollapsed": true
   },
   "source": [
    "## 2. Check for Stationarity (ADF Test) & Apply Differencing if Needed"
   ]
  },
  {
   "cell_type": "code",
   "execution_count": null,
   "id": "1ed084cf-3e89-400f-827b-eda47f7e572a",
   "metadata": {},
   "outputs": [],
   "source": [
    "# ✅ Preserve original dataset before modifications\n",
    "df_original = df.copy()\n",
    "\n",
    "# ADF Test Function\n",
    "def adf_test(series):\n",
    "    result = adfuller(series, autolag='AIC')\n",
    "    return result[1]  # p-value\n",
    "\n",
    "p_value = adf_test(df['Close'])\n",
    "differenced = False\n",
    "target_column = 'Close'\n",
    "\n",
    "if p_value > 0.05:\n",
    "    df['Close_diff'] = df['Close'].diff()\n",
    "    df['Close_Adj'] = df['Close']  # ✅ Store original Close for later use\n",
    "    df.dropna(inplace=True)  # Drops first row (NaN from differencing)\n",
    "    target_column = 'Close_diff'\n",
    "    differenced = True\n",
    "else:\n",
    "    df['Close_Adj'] = df['Close']  # ✅ If no differencing, keep Close as Close_Adj\n",
    "\n",
    "# Select relevant features\n",
    "\n",
    "data_to_use = df[[target_column, 'Close_Adj'] + features].dropna()  # ✅ Always keep Close_Adj\n"
   ]
  },
  {
   "cell_type": "markdown",
   "id": "5c1d23d3-9b4d-46ad-b33c-15ce9642ec4b",
   "metadata": {
    "jp-MarkdownHeadingCollapsed": true
   },
   "source": [
    "## 3. Auto-Detect Seasonality"
   ]
  },
  {
   "cell_type": "code",
   "execution_count": 55,
   "id": "899006cd-b85e-4874-908c-e73ee1533996",
   "metadata": {},
   "outputs": [],
   "source": [
    "def detect_seasonality(series, max_lag=30):\n",
    "    acf_values = acf(series, nlags=max_lag, fft=True)\n",
    "\n",
    "    # Find the first peak in ACF that is significant\n",
    "    for lag in range(1, max_lag):\n",
    "        if acf_values[lag] > 0.2:  # Threshold for significance\n",
    "            return lag  # Return detected seasonality period\n",
    "    \n",
    "    return 7  # Default to weekly seasonality if no clear peak is found\n"
   ]
  },
  {
   "cell_type": "markdown",
   "id": "c98fc37f-4313-4389-8586-ba623a25cf98",
   "metadata": {
    "jp-MarkdownHeadingCollapsed": true
   },
   "source": [
    "## 4. BackTesting"
   ]
  },
  {
   "cell_type": "code",
   "execution_count": null,
   "id": "c7dd584b-bc22-44b6-98d0-2668cf3899ae",
   "metadata": {},
   "outputs": [],
   "source": [
    "def backtest_sarimax(df, method='sliding'):\n",
    "\n",
    "    backtest_results = []\n",
    "    total_wins = 0\n",
    "    total_predictions = 0\n",
    "    total_rmse = 0\n",
    "    num_periods = 0  # Track number of backtest periods\n",
    "\n",
    "    df = df.sort_index(ascending=True)\n",
    "    start_idx = 365  # Start with 1-year training data\n",
    "    total_data_points = len(df)\n",
    "\n",
    "    for i in range(start_idx, total_data_points - 30, 30):  \n",
    "        train_data = df.iloc[i - 365:i] if method == 'sliding' else df.iloc[:i]\n",
    "        test_data = df.iloc[i:i + 30]\n",
    "\n",
    "        exog_train = train_data.drop(columns=[target_column, 'Close_Adj'], errors='ignore')\n",
    "        exog_test = test_data.drop(columns=[target_column, 'Close_Adj'], errors='ignore')\n",
    "\n",
    "        if exog_train.shape[1] == 0:\n",
    "            exog_train, exog_test = None, None\n",
    "\n",
    "        # ✅ Dynamically detect `m`\n",
    "        detected_m = detect_seasonality(train_data[target_column], max_lag=30)\n",
    "        \n",
    "        # AutoARIMA for optimal SARIMAX order\n",
    "        auto_arima_model = auto_arima(\n",
    "            train_data[target_column], \n",
    "            seasonal=True, \n",
    "            m=detected_m, \n",
    "            error_action='ignore', \n",
    "            suppress_warnings=True\n",
    "        )\n",
    "        order, seasonal_order = auto_arima_model.order, auto_arima_model.seasonal_order\n",
    "\n",
    "        # Train SARIMAX\n",
    "        model = SARIMAX(train_data[target_column], order=order, seasonal_order=seasonal_order, exog=exog_train)\n",
    "        model_fit = model.fit(disp=False)\n",
    "\n",
    "        forecast = model_fit.get_forecast(steps=30, exog=exog_test).predicted_mean\n",
    "\n",
    "        # ✅ Dynamically reverse differencing using Close_Adj\n",
    "        if differenced:\n",
    "            forecast = df['Close_Adj'].iloc[i - 1] + np.cumsum(forecast)\n",
    "\n",
    "        # Compute RMSE\n",
    "        rmse = np.sqrt(mean_squared_error(test_data[target_column], forecast))\n",
    "        total_rmse += rmse  # Accumulate RMSE values\n",
    "        num_periods += 1  # Increment period counter\n",
    "\n",
    "        # actual and predicted\n",
    "        actual_movement = test_data[target_column].values - df['Close_Adj'].iloc[i - 1]\n",
    "        predicted_movement = forecast.values - df['Close_Adj'].iloc[i - 1]\n",
    "\n",
    "        # Count wins where predicted and actual move in the same direction\n",
    "        wins = np.sum(np.sign(actual_movement) == np.sign(predicted_movement))\n",
    "        total_wins += wins\n",
    "        total_predictions += len(test_data)\n",
    "\n",
    "        # Store backtest results\n",
    "        backtest_results.append({\n",
    "            'Start Date': df.index[i],\n",
    "            'End Date': df.index[i + 29],\n",
    "            'RMSE': rmse,\n",
    "            'Wins': wins,\n",
    "            'Total Predictions': len(test_data),\n",
    "            'Win Rate (%)': (wins / len(test_data)) * 100\n",
    "        })\n",
    "    print(f\"Start Index: {start_idx}, Total Data Points: {total_data_points}\")\n",
    "    print(f\"Expected Iterations: {(total_data_points - start_idx) // 30}\")\n",
    "\n",
    "    # Calculate final metrics\n",
    "    overall_win_rate = (total_wins / total_predictions) * 100 if total_predictions > 0 else 0\n",
    "    avg_rmse = total_rmse / num_periods if num_periods > 0 else 0\n",
    "\n",
    "    # Convert to DataFrame and display\n",
    "    results_df = pd.DataFrame(backtest_results)\n",
    "\n",
    "    # Append final summary row\n",
    "    summary_row = {\n",
    "        'Start Date': 'Overall',\n",
    "        'End Date': 'Summary',\n",
    "        'RMSE': avg_rmse,\n",
    "        'Wins': total_wins,\n",
    "        'Total Predictions': total_predictions,\n",
    "        'Win Rate (%)': overall_win_rate\n",
    "    }\n",
    "    results_df = pd.concat([results_df, pd.DataFrame([summary_row])], ignore_index=True)\n",
    "\n",
    "    # Print Summary\n",
    "    #print(f\"\\nFinal Summary for {method.capitalize()} Window:\")\n",
    "    #print(f\"✅ Average RMSE: {avg_rmse:.4f}\")\n",
    "    #print(f\"✅ Overall Win Rate: {overall_win_rate:.2f}%\")\n",
    "\n",
    "    return results_df, overall_win_rate, avg_rmse\n"
   ]
  },
  {
   "cell_type": "code",
   "execution_count": null,
   "id": "2a544414-08c1-4e05-adad-e7a84bd8c93e",
   "metadata": {},
   "outputs": [],
   "source": [
    "sliding_results, sliding_win_rate, sliding_avg_rmse = backtest_sarimax(data_to_use, method='sliding')\n",
    "expanding_results, expanding_win_rate, expanding_avg_rmse = backtest_sarimax(data_to_use, method='expanding')"
   ]
  },
  {
   "cell_type": "code",
   "execution_count": null,
   "id": "a2429670-fc26-4365-8626-a61748803753",
   "metadata": {},
   "outputs": [],
   "source": [
    "print(sliding_results.shape)\n",
    "print(expanding_results.shape)\n",
    "print(sliding_win_rate)\n",
    "print(expanding_win_rate)\n",
    "print(sliding_avg_rmse)\n",
    "print(expanding_avg_rmse)"
   ]
  },
  {
   "cell_type": "markdown",
   "id": "cbca90af-7976-4731-94eb-ac9d4d6908ce",
   "metadata": {},
   "source": [
    "## 5. Find Best ARIMA Parameters Using Auto ARIMA"
   ]
  },
  {
   "cell_type": "code",
   "execution_count": 65,
   "id": "beb2e053-234f-48e1-9642-4715b86011e8",
   "metadata": {},
   "outputs": [],
   "source": [
    "# ✅ Get today's date dynamically\n",
    "today = df.index.max()  # Last available date in the dataset\n",
    "one_year_ago = today - pd.DateOffset(years=1)  # Get data exactly 1 year before today\n",
    "\n",
    "# ✅ Filter last 1 year of data\n",
    "train_data = df[df.index >= one_year_ago]\n",
    "\n",
    "# ✅ Define exogenous variables (always present)\n",
    "exog_train = train_data.drop(columns=[target_column, 'Close'], errors='ignore')\n",
    "\n",
    "# ✅ Get exact 30 most recent trading days for seasonality detection\n",
    "trading_days = df.loc[df.index >= today - pd.DateOffset(days=60)]  # Ensure at least 30 valid days\n",
    "recent_30_days = trading_days.iloc[-30:]  # ✅ Last 30 trading days\n",
    "\n",
    "# ✅ Detect seasonality (`m`) dynamically from the last 30 trading days\n",
    "detected_m = detect_seasonality(recent_30_days[target_column], max_lag=30)\n",
    "\n",
    "# ✅ Use AutoARIMA to find the best SARIMA order\n",
    "auto_arima_model = auto_arima(\n",
    "    train_data[target_column], \n",
    "    seasonal=True, \n",
    "    m=1,  \n",
    "    error_action='ignore', \n",
    "    suppress_warnings=True\n",
    ")\n",
    "order, seasonal_order = auto_arima_model.order, auto_arima_model.seasonal_order"
   ]
  },
  {
   "cell_type": "markdown",
   "id": "556c5eb1-12e4-4962-8923-31839ea7797b",
   "metadata": {},
   "source": [
    "## 5. Train SARIMA Model"
   ]
  },
  {
   "cell_type": "code",
   "execution_count": 67,
   "id": "fcbfdd0f-da8c-4c73-a353-cd43c4d8b135",
   "metadata": {},
   "outputs": [],
   "source": [
    "# Fit SARIMAX Model with Exogenous Variables\n",
    "sarimax_model = SARIMAX(\n",
    "    train_data[target_column], \n",
    "    order=order, \n",
    "    seasonal_order=seasonal_order, \n",
    "    exog=exog_train\n",
    ")\n",
    "\n",
    "sarimax_fit = sarimax_model.fit(disp=False)"
   ]
  },
  {
   "cell_type": "markdown",
   "id": "b5e6557e-2c60-41c6-97c0-cdbda12969e9",
   "metadata": {},
   "source": [
    "## 6. Generate 30-Day Forecast"
   ]
  },
  {
   "cell_type": "code",
   "execution_count": 87,
   "id": "ba227328-2032-4189-a9a0-5c5a293558ff",
   "metadata": {},
   "outputs": [
    {
     "name": "stdout",
     "output_type": "stream",
     "text": [
      "📌 Forecast Summary:\n",
      "Today's Closing Price: $138.85\n",
      "Forecasted Price in 30 Days: $138.85\n",
      "Expected Change: -0.00%\n",
      "Investment Recommendation: Hold\n"
     ]
    }
   ],
   "source": [
    "# ✅ Generate proper date index for the 30-day forecast\n",
    "forecast_start_date = today + pd.DateOffset(days=1)  # Start from the next day after today\n",
    "forecast_dates = pd.date_range(start=forecast_start_date, periods=30, freq='B')  # 'B' ensures business days\n",
    "\n",
    "# ✅ Generate 30-Day Forecast using the latest exogenous variables\n",
    "future_exog = df.iloc[-30:, :].drop(columns=[target_column, 'Close_Adj'], errors='ignore')  # Last 30 rows of exogenous data\n",
    "future_forecast = sarimax_fit.get_forecast(steps=30, exog=future_exog)\n",
    "future_forecast_mean = future_forecast.predicted_mean\n",
    "\n",
    "# ✅ Assign forecasted dates as index\n",
    "future_forecast_mean.index = forecast_dates\n",
    "\"\"\"\n",
    "# ✅ Reverse Differencing (if applied)\n",
    "if differenced:\n",
    "    future_forecast_mean = df['Close_Adj'].iloc[-1] + np.cumsum(future_forecast_mean)\n",
    "\"\"\"\n",
    "# ✅ Get forecasted price 30 days from today\n",
    "forecasted_price_30_days = future_forecast_mean.iloc[-1]\n",
    "\n",
    "# ✅ Calculate price change percentage\n",
    "price_change_percentage = ((forecasted_price_30_days - today_close_price) / today_close_price) * 100\n",
    "\n",
    "# ✅ Generate buy/sell/hold recommendation\n",
    "recommendation = 'Buy' if price_change_percentage > 5 else 'Sell' if price_change_percentage < -5 else 'Hold'\n",
    "\n",
    "# ✅ Print forecast summary\n",
    "print(f\"📌 Forecast Summary:\")\n",
    "print(f\"Today's Closing Price: ${today_close_price:.2f}\")\n",
    "print(f\"Forecasted Price in 30 Days: ${forecasted_price_30_days:.2f}\")\n",
    "print(f\"Expected Change: {price_change_percentage:.2f}%\")\n",
    "print(f\"Investment Recommendation: {recommendation}\")\n"
   ]
  },
  {
   "cell_type": "markdown",
   "id": "b9a0b603-ce40-4a07-86f2-596751a264c8",
   "metadata": {},
   "source": [
    "## 7. Investment Recommendation"
   ]
  },
  {
   "cell_type": "code",
   "execution_count": 85,
   "id": "ff4682fe-a3c3-4faa-ac53-426996cc44de",
   "metadata": {},
   "outputs": [
    {
     "data": {
      "image/png": "[encoded data removed]",
      "text/plain": [
       "<Figure size 1200x600 with 1 Axes>"
      ]
     },
     "metadata": {},
     "output_type": "display_data"
    },
    {
     "data": {
      "text/html": [
       "<div>\n",
       "<style scoped>\n",
       "    .dataframe tbody tr th:only-of-type {\n",
       "        vertical-align: middle;\n",
       "    }\n",
       "\n",
       "    .dataframe tbody tr th {\n",
       "        vertical-align: top;\n",
       "    }\n",
       "\n",
       "    .dataframe thead th {\n",
       "        text-align: right;\n",
       "    }\n",
       "</style>\n",
       "<table border=\"1\" class=\"dataframe\">\n",
       "  <thead>\n",
       "    <tr style=\"text-align: right;\">\n",
       "      <th></th>\n",
       "      <th>Description</th>\n",
       "      <th>Value</th>\n",
       "    </tr>\n",
       "  </thead>\n",
       "  <tbody>\n",
       "    <tr>\n",
       "      <th>0</th>\n",
       "      <td>Today's Date</td>\n",
       "      <td>2025-02-14</td>\n",
       "    </tr>\n",
       "    <tr>\n",
       "      <th>1</th>\n",
       "      <td>Today's Closing Price</td>\n",
       "      <td>$138.85</td>\n",
       "    </tr>\n",
       "    <tr>\n",
       "      <th>2</th>\n",
       "      <td>Forecasted Date</td>\n",
       "      <td>2025-08-01</td>\n",
       "    </tr>\n",
       "    <tr>\n",
       "      <th>3</th>\n",
       "      <td>Forecasted Price in 30 Days</td>\n",
       "      <td>$138.85</td>\n",
       "    </tr>\n",
       "    <tr>\n",
       "      <th>4</th>\n",
       "      <td>Price Change Percentage</td>\n",
       "      <td>-0.0%</td>\n",
       "    </tr>\n",
       "    <tr>\n",
       "      <th>5</th>\n",
       "      <td>Investment Recommendation</td>\n",
       "      <td>Hold</td>\n",
       "    </tr>\n",
       "  </tbody>\n",
       "</table>\n",
       "</div>"
      ],
      "text/plain": [
       "                   Description       Value\n",
       "0                 Today's Date  2025-02-14\n",
       "1        Today's Closing Price     $138.85\n",
       "2              Forecasted Date  2025-08-01\n",
       "3  Forecasted Price in 30 Days     $138.85\n",
       "4      Price Change Percentage       -0.0%\n",
       "5    Investment Recommendation        Hold"
      ]
     },
     "execution_count": 85,
     "metadata": {},
     "output_type": "execute_result"
    }
   ],
   "source": [
    "# Get the earliest available date in df\n",
    "earliest_date = df.index[0]  # First observation in df\n",
    "\n",
    "# Get the last forecasted date\n",
    "last_forecast_date = future_forecast_mean.index[-1]  # Last observation in forecast\n",
    "\n",
    "\n",
    "# Set x-axis limits dynamically (earliest date to last forecasted date)\n",
    "plt.figure(figsize=(12, 6))\n",
    "plt.plot(df['Close'], label='Historical Prices', color='darkblue')\n",
    "plt.plot(future_forecast_mean.index, future_forecast_mean, label='Forecasted Prices', color='red', linewidth=2, linestyle='dashed')\n",
    "plt.axhline(y=today_close_price, color='green', linestyle='--', label=\"Today's Price\")\n",
    "\n",
    "# Dynamically set x-axis limits from earliest date in df to forecasted date\n",
    "plt.xlim(earliest_date, last_forecast_date)  # Corrected x-axis scaling\n",
    "\n",
    "plt.legend()\n",
    "plt.title(\"Stock Price Forecast for Next 30 Days\")\n",
    "plt.xlabel(\"Date\")\n",
    "plt.ylabel(\"Stock Price\")\n",
    "plt.grid(True)\n",
    "plt.show()\n",
    "\n",
    "# Define today's date and 30-day forecasted date\n",
    "forecast_end_date = forecast_dates[-1]  # Last date in the forecast\n",
    "\n",
    "# Create a structured dictionary for dynamic data presentation with the correct order\n",
    "summary_data = {\n",
    "    \"Description\": [\n",
    "        \"Today's Date\", \n",
    "        \"Today's Closing Price\", \n",
    "        \"Forecasted Date\", \n",
    "        \"Forecasted Price in 30 Days\", \n",
    "        \"Price Change Percentage\", \n",
    "        \"Investment Recommendation\"\n",
    "    ],\n",
    "    \"Value\": [\n",
    "        today.strftime('%Y-%m-%d'),  # Dynamic today's date\n",
    "        f\"${round(today_close_price, 3)}\",  # Rounded today's price\n",
    "        forecast_dates[-1].strftime('%Y-%m-%d'),  # Dynamic forecasted date\n",
    "        f\"${round(forecasted_price_30_days, 3)}\",  # Rounded forecasted price\n",
    "        f\"{round(price_change_percentage, 3)}%\",  # Rounded percentage change\n",
    "        recommendation  # Dynamic recommendation\n",
    "    ]\n",
    "}\n",
    "\n",
    "# Convert to DataFrame for display\n",
    "summary_df = pd.DataFrame(summary_data)\n",
    "summary_df"
   ]
  },
  {
   "cell_type": "code",
   "execution_count": null,
   "id": "2346358a-9389-41d3-b5f9-be2187193415",
   "metadata": {},
   "outputs": [],
   "source": []
  }
 ],
 "metadata": {
  "kernelspec": {
   "display_name": "Python 3 (ipykernel)",
   "language": "python",
   "name": "python3"
  },
  "language_info": {
   "codemirror_mode": {
    "name": "ipython",
    "version": 3
   },
   "file_extension": ".py",
   "mimetype": "text/x-python",
   "name": "python",
   "nbconvert_exporter": "python",
   "pygments_lexer": "ipython3",
   "version": "3.11.7"
  }
 },
 "nbformat": 4,
 "nbformat_minor": 5
}
